{
 "cells": [
  {
   "cell_type": "code",
   "execution_count": 1,
   "id": "03d5fcaa",
   "metadata": {},
   "outputs": [
    {
     "name": "stderr",
     "output_type": "stream",
     "text": [
      "C:\\Users\\MarkosPereira.exc\\Anaconda3\\lib\\site-packages\\scipy\\__init__.py:155: UserWarning: A NumPy version >=1.18.5 and <1.25.0 is required for this version of SciPy (detected version 1.26.2\n",
      "  warnings.warn(f\"A NumPy version >={np_minversion} and <{np_maxversion}\"\n"
     ]
    },
    {
     "data": {
      "text/html": [
       "\n",
       "        <iframe\n",
       "            width=\"100%\"\n",
       "            height=\"650\"\n",
       "            src=\"http://127.0.0.1:8050/\"\n",
       "            frameborder=\"0\"\n",
       "            allowfullscreen\n",
       "            \n",
       "        ></iframe>\n",
       "        "
      ],
      "text/plain": [
       "<IPython.lib.display.IFrame at 0x27d2b903490>"
      ]
     },
     "metadata": {},
     "output_type": "display_data"
    }
   ],
   "source": [
    "import dash\n",
    "from dash import html, dcc\n",
    "from dash.dependencies import Input, Output\n",
    "import plotly.express as px\n",
    "import pandas as pd\n",
    "from sklearn.datasets import load_iris\n",
    "\n",
    "# Carregar dados fictícios (conjunto de dados Iris)\n",
    "iris = load_iris()\n",
    "df = pd.DataFrame(data=iris.data, columns=iris.feature_names)\n",
    "df['target'] = iris.target\n",
    "target_names = iris.target_names\n",
    "\n",
    "# Inicializar o aplicativo Dash\n",
    "app = dash.Dash(__name__)\n",
    "\n",
    "# Layout do aplicativo\n",
    "app.layout = html.Div([\n",
    "    html.H1(\"Aplicativo Dash com Gráficos e Tabelas\"),\n",
    "    \n",
    "    # Dropdown para seleção da feature x\n",
    "    dcc.Dropdown(\n",
    "        id='dropdown-x',\n",
    "        options=[{'label': col, 'value': col} for col in df.columns[:-1]],\n",
    "        value=df.columns[0],\n",
    "        multi=False\n",
    "    ),\n",
    "    \n",
    "    # Dropdown para seleção da feature y\n",
    "    dcc.Dropdown(\n",
    "        id='dropdown-y',\n",
    "        options=[{'label': col, 'value': col} for col in df.columns[:-1]],\n",
    "        value=df.columns[1],\n",
    "        multi=False\n",
    "    ),\n",
    "    \n",
    "    # Scatter plot\n",
    "    dcc.Graph(id='scatter-plot'),\n",
    "    \n",
    "    # Tabela\n",
    "    dcc.Graph(id='data-table'),\n",
    "    \n",
    "    # Slider para seleção do filtro\n",
    "    dcc.RangeSlider(\n",
    "        id='range-slider',\n",
    "        min=df['target'].min(),\n",
    "        max=df['target'].max(),\n",
    "        step=1,\n",
    "        marks={i: str(target_names[i]) for i in range(len(target_names))},\n",
    "        value=[df['target'].min(), df['target'].max()]\n",
    "    )\n",
    "])\n",
    "\n",
    "# Callbacks para atualizar os componentes interativos\n",
    "@app.callback(\n",
    "    Output('scatter-plot', 'figure'),\n",
    "    Output('data-table', 'figure'),\n",
    "    Input('dropdown-x', 'value'),\n",
    "    Input('dropdown-y', 'value'),\n",
    "    Input('range-slider', 'value')\n",
    ")\n",
    "def update_graph(selected_x, selected_y, selected_range):\n",
    "    filtered_df = df[(df['target'] >= selected_range[0]) & (df['target'] <= selected_range[1])]\n",
    "    \n",
    "    scatter_plot = px.scatter(filtered_df, x=selected_x, y=selected_y, color='target',\n",
    "                              labels={'target': 'Species'})\n",
    "    \n",
    "    data_table = px.scatter(filtered_df, x=selected_x, y=selected_y, color='target',\n",
    "                            labels={'target': 'Species'})\n",
    "    \n",
    "    return scatter_plot, data_table\n",
    "\n",
    "# Rodar o aplicativo\n",
    "if __name__ == '__main__':\n",
    "    app.run_server(debug=True)"
   ]
  },
  {
   "cell_type": "code",
   "execution_count": null,
   "id": "d09becc5",
   "metadata": {},
   "outputs": [],
   "source": []
  }
 ],
 "metadata": {
  "kernelspec": {
   "display_name": "Python 3 (ipykernel)",
   "language": "python",
   "name": "python3"
  },
  "language_info": {
   "codemirror_mode": {
    "name": "ipython",
    "version": 3
   },
   "file_extension": ".py",
   "mimetype": "text/x-python",
   "name": "python",
   "nbconvert_exporter": "python",
   "pygments_lexer": "ipython3",
   "version": "3.9.13"
  }
 },
 "nbformat": 4,
 "nbformat_minor": 5
}
